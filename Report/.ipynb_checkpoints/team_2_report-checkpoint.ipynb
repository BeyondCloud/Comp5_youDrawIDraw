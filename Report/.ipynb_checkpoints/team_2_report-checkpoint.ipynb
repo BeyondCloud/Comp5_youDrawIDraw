{
 "cells": [
  {
   "cell_type": "markdown",
   "metadata": {},
   "source": [
    "# Student ID, name of each team member.\n",
    "    106061514 許鈞棠  106061536 廖學煒\n",
    "\n",
    "# The models you tried during competition. \n",
    "<img src=\"Algo.jpg\",width=60,height=60>\n",
    "\n",
    "    Algorithm based sketch generator:\n",
    "    \n",
    "\n",
    "\n",
    "# List the experiment you did. For example, how you define your reward, different training strategy, etc.\n",
    "    We didn't \n",
    "\n",
    "\n",
    "# Other things worth to mention. For example, Any tricks or techniques you used in this task.\n",
    "\n",
    "\n",
    "\n",
    "# Conclusions (interesting findings, pitfalls, takeaway lessons, etc.)"
   ]
  }
 ],
 "metadata": {
  "kernelspec": {
   "display_name": "Python 3",
   "language": "python",
   "name": "python3"
  },
  "language_info": {
   "codemirror_mode": {
    "name": "ipython",
    "version": 3
   },
   "file_extension": ".py",
   "mimetype": "text/x-python",
   "name": "python",
   "nbconvert_exporter": "python",
   "pygments_lexer": "ipython3",
   "version": "3.6.5"
  }
 },
 "nbformat": 4,
 "nbformat_minor": 2
}
